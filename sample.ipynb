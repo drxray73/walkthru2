{
 "cells": [
  {
   "cell_type": "markdown",
   "id": "f01967fe-02bf-43e1-9b3f-b535a61b655d",
   "metadata": {},
   "source": [
    "## Walkthru sample notebook"
   ]
  },
  {
   "cell_type": "markdown",
   "id": "67b234c4-9785-4a76-98aa-4383f6b90e07",
   "metadata": {},
   "source": [
    "Here is how I calculate `1+1`"
   ]
  },
  {
   "cell_type": "code",
   "execution_count": 1,
   "id": "35ee4148-13c6-46a4-9d84-3561f17a7f55",
   "metadata": {},
   "outputs": [],
   "source": [
    "from numpy import *"
   ]
  },
  {
   "cell_type": "markdown",
   "id": "bd03065d-468c-4991-a4ae-bbb41b83101a",
   "metadata": {},
   "source": [
    "Here is how I calculate `sin`"
   ]
  },
  {
   "cell_type": "code",
   "execution_count": null,
   "id": "8f0f4f72-c09c-4f24-b61b-a7f56110cc87",
   "metadata": {},
   "outputs": [],
   "source": [
    "a = array[1.0, pi"
   ]
  }
 ],
 "metadata": {
  "kernelspec": {
   "display_name": "Python 3 (ipykernel)",
   "language": "python",
   "name": "python3"
  },
  "language_info": {
   "codemirror_mode": {
    "name": "ipython",
    "version": 3
   },
   "file_extension": ".py",
   "mimetype": "text/x-python",
   "name": "python",
   "nbconvert_exporter": "python",
   "pygments_lexer": "ipython3",
   "version": "3.12.2"
  }
 },
 "nbformat": 4,
 "nbformat_minor": 5
}
